{
 "cells": [
  {
   "cell_type": "code",
   "execution_count": 8,
   "id": "e1ad4b2b-0719-4829-b512-9e5c5c17950f",
   "metadata": {},
   "outputs": [],
   "source": [
    "import pandas as pd\n",
    "\n",
    "# Load the CSV file\n",
    "df = pd.read_csv(r'E:\\intern\\elevatelabs\\marketing_campaign.csv', delimiter='\\t')\n",
    "\n",
    "# Identify missing values\n",
    "missing_summary = df.isnull().sum()\n",
    "\n",
    "# Optionally: Handle missing values (e.g., drop rows with nulls)\n",
    "df_cleaned = df.dropna()  # Or use df.fillna(value) for filling"
   ]
  },
  {
   "cell_type": "code",
   "execution_count": 9,
   "id": "65935da5-7df1-439d-98f0-01967e6be36e",
   "metadata": {},
   "outputs": [
    {
     "data": {
      "text/plain": [
       "Index(['ID', 'Year_Birth', 'Education', 'Marital_Status', 'Income', 'Kidhome',\n",
       "       'Teenhome', 'Dt_Customer', 'Recency', 'MntWines', 'MntFruits',\n",
       "       'MntMeatProducts', 'MntFishProducts', 'MntSweetProducts',\n",
       "       'MntGoldProds', 'NumDealsPurchases', 'NumWebPurchases',\n",
       "       'NumCatalogPurchases', 'NumStorePurchases', 'NumWebVisitsMonth',\n",
       "       'AcceptedCmp3', 'AcceptedCmp4', 'AcceptedCmp5', 'AcceptedCmp1',\n",
       "       'AcceptedCmp2', 'Complain', 'Z_CostContact', 'Z_Revenue', 'Response'],\n",
       "      dtype='object')"
      ]
     },
     "execution_count": 9,
     "metadata": {},
     "output_type": "execute_result"
    }
   ],
   "source": [
    "df_cleaned.columns"
   ]
  },
  {
   "cell_type": "code",
   "execution_count": 10,
   "id": "03f307f7-8b37-44f6-9041-700dcafced24",
   "metadata": {},
   "outputs": [
    {
     "name": "stdout",
     "output_type": "stream",
     "text": [
      "Duplicates removed: 0\n"
     ]
    }
   ],
   "source": [
    "# Remove duplicate rows\n",
    "df_no_duplicates = df.drop_duplicates()\n",
    "\n",
    "# Optional: Check the number of duplicate rows removed\n",
    "num_duplicates_removed = len(df) - len(df_no_duplicates)\n",
    "print(f'Duplicates removed: {num_duplicates_removed}')"
   ]
  },
  {
   "cell_type": "code",
   "execution_count": 11,
   "id": "20cac54b-e4c0-46f0-9fa0-e496fb111432",
   "metadata": {},
   "outputs": [],
   "source": [
    "# Standardize text in relevant columns\n",
    "\n",
    "# 'Education' and 'Marital_Status' standardized to lowercase and stripped\n",
    "df_no_duplicates['Education'] = df_no_duplicates['Education'].str.lower().str.strip()\n",
    "df_no_duplicates['Marital_Status'] = df_no_duplicates['Marital_Status'].str.lower().str.strip()"
   ]
  },
  {
   "cell_type": "code",
   "execution_count": 12,
   "id": "bf1db3d0-4077-4756-8c43-a76d2da702dd",
   "metadata": {},
   "outputs": [],
   "source": [
    "# Convert 'Dt_Customer' to consistent date format (e.g., dd-mm-yyyy)\n",
    "df_no_duplicates['Dt_Customer'] = pd.to_datetime(df_no_duplicates['Dt_Customer'], errors='coerce').dt.strftime('%d-%m-%Y')"
   ]
  },
  {
   "cell_type": "code",
   "execution_count": 13,
   "id": "b7e077dc-48da-455f-9a5f-d20f97a43442",
   "metadata": {},
   "outputs": [
    {
     "name": "stdout",
     "output_type": "stream",
     "text": [
      "Index(['id', 'year_birth', 'education', 'marital_status', 'income', 'kidhome',\n",
      "       'teenhome', 'dt_customer', 'recency', 'mntwines', 'mntfruits',\n",
      "       'mntmeatproducts', 'mntfishproducts', 'mntsweetproducts',\n",
      "       'mntgoldprods', 'numdealspurchases', 'numwebpurchases',\n",
      "       'numcatalogpurchases', 'numstorepurchases', 'numwebvisitsmonth',\n",
      "       'acceptedcmp3', 'acceptedcmp4', 'acceptedcmp5', 'acceptedcmp1',\n",
      "       'acceptedcmp2', 'complain', 'z_costcontact', 'z_revenue', 'response'],\n",
      "      dtype='object')\n"
     ]
    }
   ],
   "source": [
    "# Clean column headers - make lowercase and replace spaces with underscores\n",
    "df_no_duplicates.columns = [col.strip().lower().replace(' ', '_') for col in df_no_duplicates.columns]\n",
    "print(df_no_duplicates.columns)"
   ]
  },
  {
   "cell_type": "code",
   "execution_count": 14,
   "id": "c538d44f-d1cd-4e7e-ba0d-95a9097c4be4",
   "metadata": {},
   "outputs": [
    {
     "name": "stdout",
     "output_type": "stream",
     "text": [
      "id                       int64\n",
      "year_birth               int64\n",
      "education               object\n",
      "marital_status          object\n",
      "income                 float64\n",
      "kidhome                  int64\n",
      "teenhome                 int64\n",
      "dt_customer             object\n",
      "recency                  int64\n",
      "mntwines                 int64\n",
      "mntfruits                int64\n",
      "mntmeatproducts          int64\n",
      "mntfishproducts          int64\n",
      "mntsweetproducts         int64\n",
      "mntgoldprods             int64\n",
      "numdealspurchases        int64\n",
      "numwebpurchases          int64\n",
      "numcatalogpurchases      int64\n",
      "numstorepurchases        int64\n",
      "numwebvisitsmonth        int64\n",
      "acceptedcmp3             int64\n",
      "acceptedcmp4             int64\n",
      "acceptedcmp5             int64\n",
      "acceptedcmp1             int64\n",
      "acceptedcmp2             int64\n",
      "complain                 int64\n",
      "z_costcontact            int64\n",
      "z_revenue                int64\n",
      "response                 int64\n",
      "dtype: object\n"
     ]
    }
   ],
   "source": [
    "# Check data types\n",
    "print(df_no_duplicates.dtypes)\n",
    "\n",
    "# Convert columns to correct types\n",
    "df_no_duplicates['year_birth'] = pd.to_numeric(df_no_duplicates['year_birth'], errors='coerce').astype('Int64')\n",
    "df_no_duplicates['income'] = pd.to_numeric(df_no_duplicates['income'], errors='coerce').astype('float')\n",
    "df_no_duplicates['kidhome'] = pd.to_numeric(df_no_duplicates['kidhome'], errors='coerce').astype('Int64')\n",
    "df_no_duplicates['teenhome'] = pd.to_numeric(df_no_duplicates['teenhome'], errors='coerce').astype('Int64')\n",
    "df_no_duplicates['recency'] = pd.to_numeric(df_no_duplicates['recency'], errors='coerce').astype('Int64')\n",
    "df_no_duplicates['dt_customer'] = pd.to_datetime(df_no_duplicates['dt_customer'], format='%d-%m-%Y', errors='coerce')\n",
    "# Repeat for other numeric columns as needed"
   ]
  },
  {
   "cell_type": "code",
   "execution_count": null,
   "id": "72f1b782-5b1e-41de-9c0e-0ca3f5a98e19",
   "metadata": {},
   "outputs": [],
   "source": []
  }
 ],
 "metadata": {
  "kernelspec": {
   "display_name": "Python 3 (ipykernel)",
   "language": "python",
   "name": "python3"
  },
  "language_info": {
   "codemirror_mode": {
    "name": "ipython",
    "version": 3
   },
   "file_extension": ".py",
   "mimetype": "text/x-python",
   "name": "python",
   "nbconvert_exporter": "python",
   "pygments_lexer": "ipython3",
   "version": "3.11.7"
  }
 },
 "nbformat": 4,
 "nbformat_minor": 5
}
